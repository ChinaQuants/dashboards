{
 "cells": [
  {
   "cell_type": "markdown",
   "metadata": {},
   "source": [
    "# Local File Associations"
   ]
  },
  {
   "cell_type": "markdown",
   "metadata": {
    "urth": {
     "dashboard": {
      "layout": {
       "col": 0,
       "height": 4,
       "row": 0,
       "width": 4
      }
     }
    }
   },
   "source": [
    "This notebook demonstrates the two syntaxes for associating local resources (e.g., data files, images) with a notebook. With the Dynamic Dashboards extension installed, these associated files are kept with the notebook when it is downloaded as a bundle and/or deployed as a dashboard. See *File &rarr; Download As* and *File &rarr; Deploy as*.\n",
    "\n",
    "*Use Cases*\n",
    "\n",
    "* Making it easy to share notebooks plus small supporting files with other users via a zip\n",
    "* Making it possible to include local web assets with deployed dashboards (JS files, CSS files, ...)\n",
    "\n",
    "To demonstrate, let's first load a local CSV file."
   ]
  },
  {
   "cell_type": "code",
   "execution_count": null,
   "metadata": {
    "collapsed": false,
    "urth": {
     "dashboard": {
      "layout": {
       "col": 5,
       "height": 4,
       "row": 0,
       "width": 4
      }
     }
    }
   },
   "outputs": [],
   "source": [
    "import pandas as pd\n",
    "cars = pd.read_csv('data/cars.csv')\n",
    "cars"
   ]
  },
  {
   "cell_type": "markdown",
   "metadata": {},
   "source": [
    "Now let's imagine we want to send this notebook and the CSV file together to another Jupyter Notebook user. We can use the first association syntax, a Markdown/HTML comment, to associate the CSV file with the notebook. Edit the next, blank cell to see it."
   ]
  },
  {
   "cell_type": "markdown",
   "metadata": {},
   "source": [
    "<!--associate:\n",
    "# The comment must be at the very beginning of a cell, by itself, starting with 'associate:'. Since it is not meant to appear in the output when run, the assumption is that it can require a cell to itself. This example just refers to a directory, relative to the notebook.\n",
    "data/\n",
    "-->"
   ]
  },
  {
   "cell_type": "markdown",
   "metadata": {},
   "source": [
    "Associated filespecs are stated line-by-line according to the same rules used by git (https://git-scm.com/docs/gitignore), although used here for inclusion rather than exclusion and restricted to paths relative to and rooted at the notebook. Absolute path and ancestor directory references (e.g., `../`) are disallowed (and not useful) for portability reasons."
   ]
  },
  {
   "cell_type": "markdown",
   "metadata": {},
   "source": [
    "Now let's include a reference to a local image.\n",
    "\n",
    "![clap](images/MjeLFmy6Lx8di.gif)\n"
   ]
  },
  {
   "cell_type": "markdown",
   "metadata": {
    "urth": {
     "dashboard": {
      "layout": {
       "col": 5,
       "height": 4,
       "row": 4,
       "width": 4
      }
     }
    }
   },
   "source": [
    "If we want to make an association more visible in the notebook, we can use triple backticks. These render the association list as a visible code block under a *pre* element like so:\n",
    "\n",
    "```\n",
    "images/MjeLFmy6Lx8di.gif\n",
    "```\n",
    "\n",
    "Unlike this scomment syntax, the triple backtick syntax doesn't require a cell for itself."
   ]
  }
 ],
 "metadata": {
  "kernelspec": {
   "display_name": "Python 3",
   "language": "python",
   "name": "python3"
  },
  "language_info": {
   "codemirror_mode": {
    "name": "ipython",
    "version": 3
   },
   "file_extension": ".py",
   "mimetype": "text/x-python",
   "name": "python",
   "nbconvert_exporter": "python",
   "pygments_lexer": "ipython3",
   "version": "3.4.3"
  },
  "urth": {
   "dashboard": {
    "cellMargin": 10,
    "defaultCellHeight": 20,
    "maxColumns": 12
   }
  }
 },
 "nbformat": 4,
 "nbformat_minor": 0
}

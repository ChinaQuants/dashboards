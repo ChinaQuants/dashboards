{
 "cells": [
  {
   "cell_type": "markdown",
   "metadata": {
    "urth": {
     "dashboard": {
      "layout": {
       "col": 2,
       "height": 4,
       "row": 0,
       "width": 9
      }
     }
    }
   },
   "source": [
    "#Dynamic Dashboards\n",
    "\n",
    "[Dynamic Dashboards](https://github.com/jupyter-incubator/dashboards) allow us to quickly create a functional application with minimal effort using a notebook. The notebook cell outputs become the components of the dashboard and can be moved, resized, and hidden as appropriate. Other technologies, both server- and client-side, can be used to enhance the Dashboard experience.\n",
    "\n",
    "##Creating a Dashboard\n",
    "\n",
    "The Dynamic Dashboard extension uses Jupyter Notebook cell output areas as the dashboard content, so any text, image, widget, etc. can be included in a dashboard. \n",
    "\n",
    "Once your notebook contains the desired dashboard components, you are ready to create the dashboard. To switch from the default notebook view to the dashboard layout view, use either the **View** toolbar buttons or the **View > Layout Dashboard** menu item. The dashboard layout view allows you to rearrange, resize, and hide cells as you see fit.\n",
    "\n",
    "Once you have laid out your dashboard, you may preview it in the **view dashboard** view by using either the **View** toolbar buttons or the **View > View Dashboard** menu item. This will show you what the dashboard will look like when deployed.\n",
    "\n",
    "To return to the Notebook, use either the **View** toolbar buttons or the **View > Notebook** menu item.\n",
    "\n",
    "As a final step, you can download and deploy your dashboard as a standalone web app using the **File > Download as > Dashboard Bundle (.zip)** menu item. When your download completes, unzip it and follow the README contained within. \n",
    "\n",
    "**Note**: Deployment is still highly experimental and depends on numerous other components from the Jupyter ecosystem: See [the project README](https://github.com/jupyter-incubator/dashboards#deploy) for details about the state of this feature.\n",
    "\n",
    "##Examples\n",
    "\n",
    "The Dynamic Dashboards repository contains several example notebooks that you can run and modify to learn how dashboards might suit your needs.\n",
    "\n",
    "<img style=\"float:right;height:300px;\" src=\"images/dashboard-abstraction.png\">\n",
    "\n",
    "###Basic Dashboards\n",
    "\n",
    "1. [Got Scotch?](got_scotch_demo/scotch_dashboard.ipynb) - uses IPyWidgets to show similarities between scotch varieties\n",
    "\n",
    "###Declarative Widgets\n",
    "\n",
    "Dynamic Dashboards work very well with [Declarative Widgets](https://github.com/jupyter-incubator/declarativewidgets) and other [Polymer](https://www.polymer-project.org/1.0/) elements:\n",
    "\n",
    "1. [NYC Taxi Trips & Fares](taxi_demo/taxi_dashboard.ipynb) - visualizes a sampling of New York City taxi trips and fares\n",
    "2. [Community Sentiment](community_sentiment_demo/community_sentiment_demo.ipynb) - describes the sentiment of an open source project on GitHub\n",
    "\n",
    "###Boilerplates\n",
    "\n",
    "Boilerplates are notebooks that allow you to quickly adapt a pre-built dashboard to your own needs. These boilerplates require minimal code changes to work with your own data and use cases.\n",
    "\n",
    "1. [Sentiment Boilerplate](sentiment_boilerplate_demo/sentiment_boilerplate_demo.ipynb) - displays and aggregates metrics about sentiment in a dashboard\n",
    "\n",
    "###Apache Spark\n",
    "\n",
    "Using technologies like Apache Spark, we can incorporate Big Data analysis into our Dashboards. In particular, we can make use of Spark Streaming to dynamically update dashboard content as new data is received.\n",
    "\n",
    "1. [Meetup Streaming](stream_demo/meetup-streaming.ipynb) - example of Spark Streaming in a notebook/dashboard\n",
    "2. [Meetup Outreach](meetup_outreach_demo/meetup-outreach.ipynb) - real-world application of a streaming dashboard\n",
    "\n",
    "###Development\n",
    "\n",
    "In addition to the demo notebooks above, we have provided these notebooks to cover aspects of the development process.\n",
    "\n",
    "1. [Resizable Widgets](resizable_widgets_tutorial/resizable_widgets.ipynb) - demonstrates how to implement a Polymer element that sizes itself to fit in a dashboard cell\n",
    "2. [Associations Demo](associations_demo/associations_demo.ipynb) - package sibling files along with deployed dashboard\n",
    "3. [Tests](test) - these cover various dashboard features and are useful for developers of the dashboard extension itself"
   ]
  }
 ],
 "metadata": {
  "kernelspec": {
   "display_name": "Python 3",
   "language": "python",
   "name": "python3"
  },
  "language_info": {
   "codemirror_mode": {
    "name": "ipython",
    "version": 3
   },
   "file_extension": ".py",
   "mimetype": "text/x-python",
   "name": "python",
   "nbconvert_exporter": "python",
   "pygments_lexer": "ipython3",
   "version": "3.4.3"
  },
  "urth": {
   "dashboard": {
    "cellMargin": 10,
    "defaultCellHeight": 20,
    "maxColumns": 12
   }
  }
 },
 "nbformat": 4,
 "nbformat_minor": 0
}
